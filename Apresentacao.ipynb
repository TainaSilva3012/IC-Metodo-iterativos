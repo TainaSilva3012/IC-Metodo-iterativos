{
 "cells": [
  {
   "cell_type": "markdown",
   "id": "6f6ef942",
   "metadata": {},
   "source": [
    "<p style=\"text-align: center;\">\n",
    "UNIVERSIDADE FEDERAL DE SANTA CATARINA.<br>\n",
    "Tainá da Silva.<br>\n",
    "Orientador: Luiz Rafael dos Santos. <br>\n",
    "2021.</p><br>\n"
   ]
  },
  {
   "cell_type": "markdown",
   "id": "1ff38afd",
   "metadata": {},
   "source": [
    "<h1 style=\"text-align: center;\"> Métodos iterativos para solução de sistemas lineares: aceleração usando reflexões circuncentradas</h1>"
   ]
  },
  {
   "cell_type": "markdown",
   "id": "168402dd",
   "metadata": {},
   "source": [
    "Neste trabalho estudamos a aplicação do Método de reflexões circuncentradas (CRM), recentemente desenvolvido em [2-5], na aceleração de métodos iterativos que se baseiam em projeções ortogonais para   encontrar uma solução de um sistema de equações lineares dado por\n",
    "\\begin{equation}\\label{eq:SL}\n",
    "    Ax = b\n",
    "\\end{equation}\n",
    "em que $A\\in\\mathbb{R}^{m \\times n}$ é uma matriz $m\\geq n$, esparsa e potencialmente de larga-escala, e ainda $x\\in\\mathbb{R}^{n}$ e $b\\in\\mathbb{R}^{m}$.\n"
   ]
  },
  {
   "cell_type": "markdown",
   "id": "8b6e47b6",
   "metadata": {},
   "source": [
    "Para tal, consideramos métodos que utilizam projeções sobre o hiperplano definido por cada linha do sistema linear dado em $Ax=b$. Tais projeções (e reflexões) têm um baixo custo computacional e, ao mesmo tempo, em geral são facilmente paralelizáveis. Alguns  algoritmos comumente usados neste caso incluem o algoritmo sequencial de Kaczmarz (KACZ) bem como vários algoritmos paralelos em bloco, dentre eles, o método de Cimmino (CIM) e o método de média de componentes (CAV) [6]. \n"
   ]
  },
  {
   "cell_type": "markdown",
   "id": "d916fefa",
   "metadata": {},
   "source": [
    "## Kaczmarz"
   ]
  },
  {
   "cell_type": "markdown",
   "id": "eb8c6ba6",
   "metadata": {},
   "source": [
    "<p>A solução do sitema linear não-singular </p>\n",
    "<p>\n",
    "$$\n",
    "\\begin{bmatrix}\n",
    "    a_{11} & a_{12}\\\\\n",
    "    a_{21} & a_{22}     \n",
    "\\end{bmatrix}\n",
    "\\cdot \n",
    "\\begin{bmatrix}\n",
    "x_{1}\\\\\n",
    "x_{2}\n",
    "\\end{bmatrix}\n",
    "=\n",
    "\\begin{bmatrix}\n",
    "b_{1}\\\\\n",
    "b_{2}\n",
    "\\end{bmatrix}\n",
    "$$\n",
    "</p>\n",
    "<p> é a intersecção de dois hiperplanos (neste caso duas retas) definidos por </p>\n",
    "\n",
    "$$\n",
    "\\mathcal{H}_{1} = \\{(x_{1}, x_{2}) \\mid a_{11} \\cdot x_{1} + a_{12} \\cdot x_{2} = b_{1}\\} \\hbox{ e } \\mathcal{H}_{2} = \\{(x_{1}, x_{2}) \\mid a_{21} \\cdot x_{1} + a_{22} \\cdot x_{2} = b_{2}\\}.\n",
    "$$\n",
    "\n",
    "<p> É visualmente evidente que, começando com um ponto arbitrário $P_{0}$ e realizando uma squência de projeções ortogonais alternadas em $\\mathcal{H}_{1}$ e $\\mathcal{H}_{2}$ como representado na figura abaixo, a sequência resultante de projeções $\\{p_{1}, p_{2}, p_{3}, p_{4}, \\ldots \\}$ converge para $\\mathcal{H}_{1}\\cap \\mathcal{H}_{2}$, que é a solução de $Ax=b$.</p>\n",
    "     "
   ]
  },
  {
   "cell_type": "markdown",
   "id": "137d2232",
   "metadata": {},
   "source": [
    "![Imagem](https://i.ibb.co/BBRs4cs/kaczmarzs.jpg)"
   ]
  },
  {
   "cell_type": "code",
   "execution_count": 1,
   "id": "0bfd6df6",
   "metadata": {},
   "outputs": [
    {
     "data": {
      "text/plain": [
       "normalize_matriz (generic function with 1 method)"
      ]
     },
     "execution_count": 1,
     "metadata": {},
     "output_type": "execute_result"
    }
   ],
   "source": [
    "using LinearAlgebra, Random, BenchmarkTools\n",
    "Random.seed!(3)\n",
    "\n",
    "n=111\n",
    "r=200\n",
    "A = randn(n,r)\n",
    "b = randn(n)\n",
    "\n",
    "#Primeiro precisamos fazer uma função que normalize as linhas da matriz A\n",
    "\n",
    "function normalize_matriz(A,b)\n",
    "    n,r = size(A)\n",
    "   for i=1:n\n",
    "        β = norm(A[i,:])\n",
    "        A[i,:] = A[i,:]/β\n",
    "        b[i] = b[i]/β\n",
    "    end\n",
    "    return A,b\n",
    "end"
   ]
  },
  {
   "cell_type": "code",
   "execution_count": 2,
   "id": "9d0ca7d2",
   "metadata": {},
   "outputs": [
    {
     "data": {
      "text/plain": [
       "proj (generic function with 1 method)"
      ]
     },
     "execution_count": 2,
     "metadata": {},
     "output_type": "execute_result"
    }
   ],
   "source": [
    "function proj(p₀, u, β) \n",
    "    \n",
    "   return  p₀ - ((dot(u, p₀)- β)/dot(u, u))*u\n",
    "end"
   ]
  },
  {
   "cell_type": "code",
   "execution_count": 3,
   "id": "3f7fdd09",
   "metadata": {},
   "outputs": [
    {
     "data": {
      "text/plain": [
       "Kaczmarz (generic function with 1 method)"
      ]
     },
     "execution_count": 3,
     "metadata": {},
     "output_type": "execute_result"
    }
   ],
   "source": [
    "function Kaczmarz(A, b; itmax=10000, ε= 1e-3)\n",
    "   n,r = size(A) \n",
    "    pₖ = ones(r)\n",
    "    k = 1 \n",
    "    A,b = normalize_matriz(A,b)\n",
    "    tol = norm(b- A*pₖ)\n",
    "    while k <= itmax && tol> ε   \n",
    "    for i=1:n\n",
    "         pₖ= proj(pₖ, A[i,:], b[i])\n",
    "    end\n",
    "        tol = norm(b- A*pₖ)\n",
    "        k += 1\n",
    "    end\n",
    "    \n",
    "    return pₖ, tol, k\n",
    "end"
   ]
  },
  {
   "cell_type": "code",
   "execution_count": 4,
   "id": "c05afeec",
   "metadata": {},
   "outputs": [
    {
     "data": {
      "text/plain": [
       "([0.07236108286868863, -0.03898190532879666, 0.12475449945437528, -0.2781786847646876, 1.1269185531232808, 0.7920657523442495, 0.33661464290211324, 0.1310469531790241, 0.07387319011758799, 0.7301552060638411  …  -0.19383310177276486, 0.6180487196412655, 0.8183045597179235, 0.3170114229352824, 1.2999397012828742, 0.5536947415729248, 0.3724958520258866, -0.26052358659440095, -0.34223083956496914, 1.2246465445148953], 8.864136205630041e-7, 77)"
      ]
     },
     "execution_count": 4,
     "metadata": {},
     "output_type": "execute_result"
    }
   ],
   "source": [
    "Kaczmarz(A, b, ε=1e-6)"
   ]
  },
  {
   "cell_type": "markdown",
   "id": "eda08d5e",
   "metadata": {},
   "source": [
    "## Cimmino"
   ]
  },
  {
   "cell_type": "markdown",
   "id": "d9bc63b0",
   "metadata": {},
   "source": [
    "<p style=\"text-align: justify; text-justify: inter-word\"> O matemático italiano Gianfranco Cimmino usou a seguinte observação elementar para construir um algoritmo iterativo para resolver sistemas lineares. Para um sistema $2 \\times 2$ tem $Ax = b$, sejam $\\mathcal{H}_{1}$ e $\\mathcal{H}_{2}$ as duas retas (hiperplanos) definidas pelas duas equações. Para um palpite arbitrário $r_{0}$, seja $r_{1}$ o reflexão de $r_{0}$ sobre a linha $\\mathcal{H}_{1}$, e seja $r_{2}$ o reflexão de $r_{0}$ sobre a linha $\\mathcal{H}_{2}$. Conforme ilustrado na abaixo, os três pontos $r_{0}$, $r_{1}$ e $r_{2}$ encontram-se em um círculo cujo centro é $\\mathcal{H}_{1} \\cap \\mathcal{H}_{2}$ (a solução do sistema). </p>"
   ]
  },
  {
   "cell_type": "markdown",
   "id": "487a0e18",
   "metadata": {},
   "source": [
    "![Imagem](https://i.ibb.co/CMrVJfc/cimmino.jpg)"
   ]
  },
  {
   "cell_type": "markdown",
   "id": "034af8b3",
   "metadata": {},
   "source": [
    "<p style=\"text-align: justify; text-justify: inter-word\"> O valor médio $m = \\frac{(r_{1} + r_{2})}{2}$ está estritamente dentro do círculo, então $m$ é uma melhor aproximação da solução do que $r_{0}$. É visualmente evidente que iteração produz uma sequência que converge para a solução de $Ax = b$. Provaremos isso em geral usando o esquema a seguir. </p>"
   ]
  },
  {
   "cell_type": "code",
   "execution_count": 5,
   "id": "388a6aa7",
   "metadata": {},
   "outputs": [
    {
     "data": {
      "text/plain": [
       "reflexao (generic function with 1 method)"
      ]
     },
     "execution_count": 5,
     "metadata": {},
     "output_type": "execute_result"
    }
   ],
   "source": [
    "function reflexao(p₀, u, β) \n",
    "    \n",
    "   return  2*proj(p₀, u, β) - p₀\n",
    "end"
   ]
  },
  {
   "cell_type": "code",
   "execution_count": 6,
   "id": "b3f73887",
   "metadata": {},
   "outputs": [
    {
     "data": {
      "text/plain": [
       "Cimmino (generic function with 1 method)"
      ]
     },
     "execution_count": 6,
     "metadata": {},
     "output_type": "execute_result"
    }
   ],
   "source": [
    "function Cimmino(A, b; itmax=10000, ε= 1e-3)\n",
    "    n,r = size(A) \n",
    "    xₖ = ones(r)\n",
    "    k = 1 \n",
    "    A,b = normalize_matriz(A,b)\n",
    "    tol = norm(b- A*xₖ)\n",
    "    \n",
    "    while k <= itmax && tol> ε \n",
    "        rₖ = zeros(r)\n",
    "        for i=1:n\n",
    "         rₖ += reflexao(xₖ, A[i,:], b[i])\n",
    "        end\n",
    "        xₖ= rₖ/n\n",
    "        tol = norm(b- A*xₖ)\n",
    "        k += 1\n",
    "    end\n",
    "    return xₖ, tol, k\n",
    "end"
   ]
  },
  {
   "cell_type": "code",
   "execution_count": 7,
   "id": "c0434719",
   "metadata": {},
   "outputs": [
    {
     "data": {
      "text/plain": [
       "([0.07278968994792681, -0.039385854618292825, 0.12469450836399668, -0.2777793274599455, 1.1267132363887353, 0.7920233410340194, 0.33666095663170564, 0.13123579780334507, 0.07395673091775246, 0.7303097408385365  …  -0.19422691079925913, 0.6176740495933697, 0.8178942898139873, 0.3170120335404509, 1.2999353332230903, 0.5536919659364684, 0.37292251763582374, -0.26033103992332274, -0.34224436658768964, 1.22463219059066], 0.0009990975689428418, 3682)"
      ]
     },
     "execution_count": 7,
     "metadata": {},
     "output_type": "execute_result"
    }
   ],
   "source": [
    "Cimmino(A, b, ε=1e-3)"
   ]
  },
  {
   "cell_type": "markdown",
   "id": "b0d9febb",
   "metadata": {},
   "source": [
    "## CAV"
   ]
  },
  {
   "cell_type": "code",
   "execution_count": 9,
   "id": "97c81abf",
   "metadata": {},
   "outputs": [
    {
     "ename": "LoadError",
     "evalue": "UndefVarError: SparseMatrixCSC not defined",
     "output_type": "error",
     "traceback": [
      "UndefVarError: SparseMatrixCSC not defined",
      "",
      "Stacktrace:",
      " [1] top-level scope",
      "   @ In[9]:1",
      " [2] eval",
      "   @ ./boot.jl:360 [inlined]",
      " [3] include_string(mapexpr::typeof(REPL.softscope), mod::Module, code::String, filename::String)",
      "   @ Base ./loading.jl:1116"
     ]
    }
   ],
   "source": [
    "function Esparsidade(A::SparseMatrixCSC)\n",
    "\tS = Int64[]\n",
    "\tfor col in eachcol(A)\n",
    "\t\tpush!(S, nnz(col))\n",
    "\tend\n",
    "\treturn S\n",
    "end"
   ]
  },
  {
   "cell_type": "code",
   "execution_count": 10,
   "id": "69cc77c3",
   "metadata": {},
   "outputs": [
    {
     "data": {
      "text/plain": [
       "norma_S_matriz (generic function with 1 method)"
      ]
     },
     "execution_count": 10,
     "metadata": {},
     "output_type": "execute_result"
    }
   ],
   "source": [
    "function norma_S_matriz(A₀, b₀; S::Vector=[]) #Caso não seja fornecida a E, cacula norma Euclidiana\n",
    "    n, r = size(A₀)\n",
    "\tif isempty(S) \n",
    "\t\tS = ones(r)\n",
    "\tend   \n",
    "\tfor i=1:n\n",
    "\t\tβᵢ = A₀[i,:]'*S[i]*A₀[i,:]\n",
    "        A₀[i,:] /=βᵢ\n",
    "        b₀[i] /= βᵢ\n",
    "       end\n",
    "       return A₀, b₀\n",
    "    end"
   ]
  },
  {
   "cell_type": "code",
   "execution_count": 11,
   "id": "5b8f88fd",
   "metadata": {},
   "outputs": [
    {
     "ename": "LoadError",
     "evalue": "UndefVarError: SparseMatrixCSC not defined",
     "output_type": "error",
     "traceback": [
      "UndefVarError: SparseMatrixCSC not defined",
      "",
      "Stacktrace:",
      " [1] top-level scope",
      "   @ In[11]:1",
      " [2] eval",
      "   @ ./boot.jl:360 [inlined]",
      " [3] include_string(mapexpr::typeof(REPL.softscope), mod::Module, code::String, filename::String)",
      "   @ Base ./loading.jl:1116"
     ]
    }
   ],
   "source": [
    "function CAV_sparse(A::SparseMatrixCSC, b::Vector; itmax::Int=10_000, ε::Float64= 1e-3)\n",
    "\tn,r = size(A)\n",
    "\txₖ = ones(r)\n",
    "\tk = 0\n",
    "\tE = Esparsidade(A)\n",
    "\tA,b = norma_S_matriz(A, b; S=E) \n",
    "\ttol = norm(b - A*xₖ)\n",
    " \t\twhile k <=itmax && tol> ε \n",
    "\t\t\txₖ = reflexao_simultanea(xₖ, A, b, n, r)\n",
    "\t\t\ttol = norm(b- A*xₖ)\n",
    "\t\t\tk += 1\n",
    "\t\tend\n",
    "\treturn xₖ, tol, k\n",
    "end"
   ]
  },
  {
   "cell_type": "code",
   "execution_count": 12,
   "id": "bc9d97a7",
   "metadata": {},
   "outputs": [
    {
     "ename": "LoadError",
     "evalue": "UndefVarError: sprand not defined",
     "output_type": "error",
     "traceback": [
      "UndefVarError: sprand not defined",
      "",
      "Stacktrace:",
      " [1] top-level scope",
      "   @ In[12]:1",
      " [2] eval",
      "   @ ./boot.jl:360 [inlined]",
      " [3] include_string(mapexpr::typeof(REPL.softscope), mod::Module, code::String, filename::String)",
      "   @ Base ./loading.jl:1116"
     ]
    }
   ],
   "source": [
    "spa = sprand(100, 100, 0.05)\n",
    "vet_spa = rand(100)"
   ]
  },
  {
   "cell_type": "code",
   "execution_count": 13,
   "id": "527fe5c3",
   "metadata": {},
   "outputs": [
    {
     "ename": "LoadError",
     "evalue": "UndefVarError: spa not defined",
     "output_type": "error",
     "traceback": [
      "UndefVarError: spa not defined",
      "",
      "Stacktrace:",
      " [1] top-level scope",
      "   @ In[13]:1",
      " [2] eval",
      "   @ ./boot.jl:360 [inlined]",
      " [3] include_string(mapexpr::typeof(REPL.softscope), mod::Module, code::String, filename::String)",
      "   @ Base ./loading.jl:1116"
     ]
    }
   ],
   "source": [
    "CAV_sparse(spa, vet_spa, itmax=10_000)"
   ]
  },
  {
   "cell_type": "code",
   "execution_count": 14,
   "id": "7eedeecd",
   "metadata": {},
   "outputs": [
    {
     "ename": "LoadError",
     "evalue": "UndefVarError: spa not defined",
     "output_type": "error",
     "traceback": [
      "UndefVarError: spa not defined",
      "",
      "Stacktrace:",
      " [1] top-level scope",
      "   @ In[14]:1",
      " [2] eval",
      "   @ ./boot.jl:360 [inlined]",
      " [3] include_string(mapexpr::typeof(REPL.softscope), mod::Module, code::String, filename::String)",
      "   @ Base ./loading.jl:1116"
     ]
    }
   ],
   "source": [
    "Cimmino(spa, vet_spa, itmax=10_000)"
   ]
  },
  {
   "cell_type": "markdown",
   "id": "992f7ffe",
   "metadata": {},
   "source": [
    "## CRM"
   ]
  },
  {
   "cell_type": "markdown",
   "id": "60b4af17",
   "metadata": {},
   "source": [
    "O esquema do CRM pode ser entendido da seguinte forma: considere apenas o problema de melhor aproximação de um ponto $x\\in\\mathbb{R}^n$ para a interseção de dois conjuntos $K_{1},K_{2}\\subset\\mathbb{R}^{n}$, para os quais é possível calcular uma projeção. O próximo iterado do método é o circuncentro do triangulo de vértices $x$, $y:= R_{K_{1}}(x)$ e $z:= R_{K_{2}}R_{K_{1}}(x)$, denotado por \n",
    "\\begin{equation}C_T(x):=circum(x,y,z).\n",
    "\\end{equation}\n",
    "em que $R_X=2P_X-Id$ é a reflexão em relação a um conjunto $X$ e  $Id$ é o operador identidade. Note que $P_X(x)$ é tão somente o ponto médio do segmento $[x,R_X(x)]$.\n",
    "\n",
    "Por circuncentro queremos dizer que  $C_T(x)$ é equidistante a $x$, $y$ e $z$ e está alocado no subespaço afim definido por estes três vértices. Dados dois  conjuntos $K,U$  convexos e fechados, com $U$ afim, para todo $x\\in \\mathbb{R}^{n}$,  $C_T(x)$ existe, é unicamente determinado e tem uma fórmula fechada para seu cálculo. Existência e unicidade são óbvias se a cardinalidade do conjunto $\\{x,y,z\\}$ é $1$ ou  $2$. Com efeito, se acontecer de  $x=y=z$, já teremos $C_T(x)=x\\in K\\cap U$  --- a recíproca também é verdadeira, isto é, se $C_T(x)=x$, então $x=y=z$. Isto significa que o conjunto dos pontos fixos  $Fix C_T$ do operador  (não-linear)   $C_T$ é igual à $U\\cap V$. Se a cardinalidade de $\\{x,y,z\\}$ for $2$ então $C_T(x)$ é o ponto médio entre os dois pontos distintos. Se $x$, $y$ e $z$  são distintos, tanto a existência quanto unicidade seguem de argumentos de geometria elementar. Assim, deve ser preocupação apenas o caso em que   $x$, $y$ e $z$  são distintos porém colineares. Entretanto,  isto não pode acontecer no caso em questão, pois reflexões em convexos são operações que preservam norma. Mais que isso,  a distância entre $x$, $y$ e $z$ à $K\\cap U$ é exatamente a mesma. Portanto, a equidistância que pedimos em  \\begin{equation}C_T(x):=circum(x,y,z).\n",
    "\\end{equation} torna-se uma condição necessária para a solução de $\\bar x\\in S\\text{ tal que } \\|\\bar x-x^{0}\\|=\\min_{s\\in S} \\|s-x^{0}\\|.$ Uma representação esquemática desta ideia pode ser encontrada  na~\\Cref{figure2}.\n"
   ]
  },
  {
   "cell_type": "markdown",
   "id": "61ffca84",
   "metadata": {},
   "source": [
    "![Imagem](https://i.ibb.co/Wtb4VJF/DRC-Ex-Sphere2.jpg)"
   ]
  },
  {
   "cell_type": "markdown",
   "id": "fb5566ff",
   "metadata": {},
   "source": [
    "![Imagem](https://i.ibb.co/LNVwDdj/DRC-Ex-Plane4.jpg)"
   ]
  },
  {
   "cell_type": "markdown",
   "id": "6069b082",
   "metadata": {},
   "source": [
    "[1]  Baushke H. H., Ouyang, H. and Wang, X.On Circumcenters of Finite Sets in Hilbert Spaces.Linear Nonlinear Anal. 4(2):271–295, 2018.\n",
    "\n",
    "[2]  Behling,  R.,  Bello-Cruz,  J.  Y.  and  Santos,  L.-R.Circumcentering  the  Douglas–Rachfordmethod. Numer. Algorithms. 78(3):59–776, 2018. DOI: 10.1007/s11075-017-0399-5.\n",
    "\n",
    "[3]  Behling,    R.,    Bello-Cruz,    J.   Y.   and   Santos,    L.-R.On   the   linear   convergence   ofthe    circumcentered-reflection    method.   Oper.   Res.   Lett.   46(2):159–162,2018.   DOI:10.1016/j.orl.2017.11.018.\n",
    "\n",
    "[4]  Behling,  R.,  Bello-Cruz,  J.  Y.  and  Santos,  L.-R.The  Block-wise  Circumcentered-ReflectionMethod. Comput. Optim. Appl. 76(3):675–699, 2020. DOI: 10.1007/s10589-019-00155-0.\n",
    "\n",
    "[5]  Behling,   R.,   Bello-Cruz,   J.   Y.   and   Santos,   L.-R.On   the   Circumcentered-ReflectionMethod  for  the  Convex  Feasibility  Problem.  Numer.  Algorithms.  86:1475–1494,  2021.  DOI:10.1007/s11075-020-00941-6.[6]  Elble,   J.  M.,   Sahinidis,   N.  V.  and  Vouzis,   P.GPU   computing   with   Kaczmarz’s   andother  iterative  algorithms  for  linear  systems. Parallel Comput. 36(5–6):215–231, 2010. DOI:10.1016/j.parco.2009.12.003."
   ]
  }
 ],
 "metadata": {
  "kernelspec": {
   "display_name": "Julia 1.6.2",
   "language": "julia",
   "name": "julia-1.6"
  },
  "language_info": {
   "file_extension": ".jl",
   "mimetype": "application/julia",
   "name": "julia",
   "version": "1.6.2"
  }
 },
 "nbformat": 4,
 "nbformat_minor": 5
}
