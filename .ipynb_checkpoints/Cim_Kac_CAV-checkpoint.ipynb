{
 "cells": [
  {
   "cell_type": "code",
   "execution_count": 25,
   "metadata": {},
   "outputs": [],
   "source": [
    "using CUDA, LinearAlgebra, CUDA.CUSPARSE, CUDA.CUBLAS, SparseArrays, BenchmarkTools,  Random"
   ]
  },
  {
   "cell_type": "code",
   "execution_count": 26,
   "metadata": {},
   "outputs": [
    {
     "data": {
      "text/plain": [
       "111-element Vector{Float64}:\n",
       " -1.027217902090382\n",
       " -0.16843034466987333\n",
       " -0.06841382215831648\n",
       "  2.0024021674389756\n",
       "  1.1287155231458093\n",
       "  0.39274179492300376\n",
       " -1.5633071694108864\n",
       " -1.7577116570148978\n",
       " -0.22473062073295197\n",
       "  0.5158298960591698\n",
       "  1.1405044763289178\n",
       " -0.02680352358440236\n",
       "  0.7780767106108282\n",
       "  ⋮\n",
       "  1.5352517324087525\n",
       "  0.10010334343823409\n",
       "  1.060280537805698\n",
       " -0.044429877423532244\n",
       " -1.2319604978398389\n",
       "  0.30403393713800014\n",
       " -0.13766434375027636\n",
       "  3.0068860134078292\n",
       " -1.6845142946861307\n",
       " -2.6980798165611963\n",
       "  0.4771854808040251\n",
       " -0.6063119554397307"
      ]
     },
     "execution_count": 26,
     "metadata": {},
     "output_type": "execute_result"
    }
   ],
   "source": [
    "    Random.seed!(73)\n",
    "    n=111\n",
    "    r=200\n",
    "    A₀ = randn(n,r)\n",
    "    b₀ = randn(n)"
   ]
  },
  {
   "cell_type": "code",
   "execution_count": 27,
   "metadata": {},
   "outputs": [],
   "source": [
    "# n = Int32(2^20)\n",
    "# X = CUDA.rand(n)\n",
    "# Y = CUDA.rand(n)\n",
    "# x = Array(X)\n",
    "# y = Array(Y)\n",
    "# β = Float32(1.0)\n"
   ]
  },
  {
   "cell_type": "code",
   "execution_count": 28,
   "metadata": {},
   "outputs": [],
   "source": [
    "#  Random.seed!(73)\n",
    "#     n=200\n",
    "#     r=100\n",
    "#     A = CUDA.randn(n, r)\n",
    "#     b = CUDA.randn(n)\n",
    "#     xₖ = CUDA.randn(r)\n",
    "#     A₀ = Matrix(A)\n",
    "#     b₀ = Array(b)\n",
    "#     x₀ = Array(x)\n"
   ]
  },
  {
   "cell_type": "code",
   "execution_count": 29,
   "metadata": {},
   "outputs": [
    {
     "data": {
      "text/plain": [
       "normalize_matriz (generic function with 1 method)"
      ]
     },
     "execution_count": 29,
     "metadata": {},
     "output_type": "execute_result"
    }
   ],
   "source": [
    "  function normalize_matriz(A₀,b₀)\n",
    "      n,r = size(A₀)\n",
    "      for i=1:n\n",
    "           β = norm(A₀[i,:])\n",
    "           A₀[i,:] = A₀[i,:]/β\n",
    "           b₀[i] = b₀[i]/β\n",
    "       end\n",
    "       return A₀,b₀\n",
    "    end"
   ]
  },
  {
   "cell_type": "code",
   "execution_count": 30,
   "metadata": {},
   "outputs": [
    {
     "data": {
      "text/plain": [
       "([-0.05246871614701595 0.04813330140834741 … -0.054618753860933435 0.13651569973996042; -0.05302239174113973 -0.00015028998040046707 … 0.056634477598788494 0.012029084412852418; … ; -0.11876679188655065 0.06482986308952837 … 0.0627555459382738 -0.005064487570413942; -0.04220749225630286 0.027836856625115248 … 0.11897406733642436 -0.07498609927285887], [-0.0725167037772316, -0.011327432563270384, -0.004533562892623396, 0.14819542430281996, 0.08161322031033759, 0.02727505269792368, -0.1032834961914513, -0.12233570863337818, -0.015136687584522015, 0.039651000931179514  …  0.06943127073926147, -0.0034124828464882737, -0.08154318995771827, 0.02068557720510748, -0.010288891256824778, 0.19157285698369625, -0.11473473959774588, -0.18251719241493292, 0.03172011780322749, -0.04305654565567327])"
      ]
     },
     "execution_count": 30,
     "metadata": {},
     "output_type": "execute_result"
    }
   ],
   "source": [
    "A,b = normalize_matriz(A₀,b₀)"
   ]
  },
  {
   "cell_type": "code",
   "execution_count": 31,
   "metadata": {},
   "outputs": [
    {
     "data": {
      "text/plain": [
       "proj (generic function with 1 method)"
      ]
     },
     "execution_count": 31,
     "metadata": {},
     "output_type": "execute_result"
    }
   ],
   "source": [
    "function proj(p₀, u, β)\n",
    "    return  p₀ .- ((dot(u, p₀)- β)/dot(u, u)).*u\n",
    "end"
   ]
  },
  {
   "cell_type": "code",
   "execution_count": 32,
   "metadata": {},
   "outputs": [
    {
     "data": {
      "text/plain": [
       "Kaczmarz (generic function with 1 method)"
      ]
     },
     "execution_count": 32,
     "metadata": {},
     "output_type": "execute_result"
    }
   ],
   "source": [
    "function Kaczmarz(A::Matrix, b::Vector; itmax::Int=10000, ε::Float64= 1e-3)\n",
    "    n,r = size(A) \n",
    "    pₖ = ones(r)\n",
    "    k = 1 \n",
    "    A,b = normalize_matriz(A,b)\n",
    "    tol = norm(b- A*pₖ)\n",
    "    while k <= itmax && tol> ε\n",
    "      for i=1:n\n",
    "          pₖ= proj(pₖ, A[i,:], b[i])\n",
    "      end\n",
    "        tol = norm(b- A*pₖ)\n",
    "        k += 1\n",
    "    end\n",
    "    return pₖ, tol, k\n",
    "end"
   ]
  },
  {
   "cell_type": "code",
   "execution_count": 33,
   "metadata": {},
   "outputs": [
    {
     "data": {
      "text/plain": [
       "reflexao (generic function with 1 method)"
      ]
     },
     "execution_count": 33,
     "metadata": {},
     "output_type": "execute_result"
    }
   ],
   "source": [
    "function reflexao(p₀, u, β)\n",
    "\treturn  2*proj(p₀, u, β) - p₀\n",
    "end"
   ]
  },
  {
   "cell_type": "code",
   "execution_count": 34,
   "metadata": {},
   "outputs": [
    {
     "data": {
      "text/plain": [
       "reflexao_simultanea (generic function with 1 method)"
      ]
     },
     "execution_count": 34,
     "metadata": {},
     "output_type": "execute_result"
    }
   ],
   "source": [
    "function reflexao_simultanea(xₖ, A, b, n, r)\n",
    "\trₖ = zeros(r)\n",
    "\tfor i=1:n\n",
    "\t\trₖ += reflexao(xₖ, A[i,:], b[i])\n",
    "\tend\n",
    "\treturn rₖ/n\n",
    "end"
   ]
  },
  {
   "cell_type": "code",
   "execution_count": 35,
   "metadata": {},
   "outputs": [
    {
     "data": {
      "text/plain": [
       "Cimmino (generic function with 1 method)"
      ]
     },
     "execution_count": 35,
     "metadata": {},
     "output_type": "execute_result"
    }
   ],
   "source": [
    "function Cimmino(A::Union{Matrix, SparseMatrixCSC}, b::Vector; itmax::Int=10000, ε::Float64= 1e-3)\n",
    "\tn,r = size(A)\n",
    "\txₖ = ones(r)\n",
    "\tk = 0\n",
    "\tA,b = normalize_matriz(A,b)\n",
    "\ttol = norm(b- A*xₖ)\n",
    " \t\twhile k <= itmax && tol> ε \n",
    "\t\t\txₖ = reflexao_simultanea(xₖ, A, b, n, r)\n",
    "\t\t\ttol = norm(b- A*xₖ)\n",
    "\t\t\tk += 1\n",
    "\t\tend\n",
    "\treturn xₖ, tol, k\n",
    "end"
   ]
  },
  {
   "cell_type": "code",
   "execution_count": 36,
   "metadata": {},
   "outputs": [
    {
     "data": {
      "text/plain": [
       "([0.6797697729383061, 0.8804843961786747, 0.1913710798571663, 0.38567606074769867, 0.8057652622717151, 0.8944669116327975, 0.3017492126045556, 0.40413851002859785, 0.5038296803188066, 0.6160941678624405  …  1.0991105748506784, 0.499716306117388, 0.5996960794850281, 1.0908283338024158, 0.4044912166068479, -0.024067776837861717, 0.9376378037767612, 0.9439346861115864, 0.8748205379905232, 0.7254035549882643], 0.0009985212057369761, 3604)"
      ]
     },
     "execution_count": 36,
     "metadata": {},
     "output_type": "execute_result"
    }
   ],
   "source": [
    "Cimmino(A, b, ε=1e-3)"
   ]
  },
  {
   "cell_type": "code",
   "execution_count": 37,
   "metadata": {},
   "outputs": [
    {
     "data": {
      "text/plain": [
       "([0.6796998980137472, 0.8804103812038844, 0.19126640847668858, 0.38566314257613343, 0.8056443078857871, 0.8942605963813628, 0.30178854268328287, 0.4041328799670001, 0.5036539063274782, 0.616038346307598  …  1.0990614370984169, 0.4993828129824335, 0.5995592747354778, 1.0907917505577234, 0.40465336293063753, -0.02428902413598981, 0.9378394991593929, 0.9440883462848917, 0.8749639490606362, 0.7255373727317135], 0.0008136944773606055, 33)"
      ]
     },
     "execution_count": 37,
     "metadata": {},
     "output_type": "execute_result"
    }
   ],
   "source": [
    "Kaczmarz(A, b, ε=1e-3)"
   ]
  },
  {
   "cell_type": "code",
   "execution_count": 38,
   "metadata": {},
   "outputs": [
    {
     "data": {
      "text/plain": [
       "Esparsidade (generic function with 1 method)"
      ]
     },
     "execution_count": 38,
     "metadata": {},
     "output_type": "execute_result"
    }
   ],
   "source": [
    "function Esparsidade(A::SparseMatrixCSC)\n",
    "\tS = Int64[]\n",
    "\tfor col in eachcol(A)\n",
    "\t\tpush!(S, nnz(col))\n",
    "\tend\n",
    "\treturn S\n",
    "end"
   ]
  },
  {
   "cell_type": "code",
   "execution_count": 39,
   "metadata": {},
   "outputs": [
    {
     "data": {
      "text/plain": [
       "norma_S_matriz (generic function with 1 method)"
      ]
     },
     "execution_count": 39,
     "metadata": {},
     "output_type": "execute_result"
    }
   ],
   "source": [
    "function norma_S_matriz(A₀, b₀; S::Vector=[]) #Caso não seja fornecida a E, cacula norma Euclidiana\n",
    "    n, r = size(A₀)\n",
    "\tif isempty(S) \n",
    "\t\tS = ones(r)\n",
    "\tend   \n",
    "\tfor i=1:n\n",
    "\t\tβᵢ = A₀[i,:]'*S[i]*A₀[i,:]\n",
    "        A₀[i,:] /=βᵢ\n",
    "        b₀[i] /= βᵢ\n",
    "       end\n",
    "       return A₀, b₀\n",
    "    end"
   ]
  },
  {
   "cell_type": "code",
   "execution_count": 46,
   "metadata": {},
   "outputs": [
    {
     "data": {
      "text/plain": [
       "CAV_sparse (generic function with 1 method)"
      ]
     },
     "execution_count": 46,
     "metadata": {},
     "output_type": "execute_result"
    }
   ],
   "source": [
    "function CAV_sparse(A::SparseMatrixCSC, b::Vector; itmax::Int=10_000, ε::Float64= 1e-3)\n",
    "\tn,r = size(A)\n",
    "\txₖ = ones(r)\n",
    "\tk = 0\n",
    "\tE = Esparsidade(A)\n",
    "\tA,b = norma_S_matriz(A, b; S=E) \n",
    "\ttol = norm(b - A*xₖ)\n",
    " \t\twhile k <=itmax && tol> ε \n",
    "\t\t\txₖ = reflexao_simultanea(xₖ, A, b, n, r)\n",
    "\t\t\ttol = norm(b- A*xₖ)\n",
    "\t\t\tk += 1\n",
    "\t\tend\n",
    "\treturn xₖ, tol, k\n",
    "end"
   ]
  },
  {
   "cell_type": "code",
   "execution_count": 44,
   "metadata": {},
   "outputs": [
    {
     "data": {
      "text/plain": [
       "100-element Vector{Float64}:\n",
       " 0.09866283643371943\n",
       " 0.7846414609307999\n",
       " 0.3293804798313973\n",
       " 0.8105183833066827\n",
       " 0.3886294019930905\n",
       " 0.5481096326686237\n",
       " 0.38854511615971465\n",
       " 0.3964348518075518\n",
       " 0.6073835597621373\n",
       " 0.5346932538014926\n",
       " 0.4739521495846175\n",
       " 0.9176349587896304\n",
       " 0.7493065678071005\n",
       " ⋮\n",
       " 0.4691272796340151\n",
       " 0.0636381224204341\n",
       " 0.6553950785564777\n",
       " 0.036480899247802956\n",
       " 0.7051078051981408\n",
       " 0.3915205106193653\n",
       " 0.5407059987941587\n",
       " 0.3890632124663902\n",
       " 0.47304341388812987\n",
       " 0.4962209638078434\n",
       " 0.5939609395868588\n",
       " 0.6877507802443465"
      ]
     },
     "execution_count": 44,
     "metadata": {},
     "output_type": "execute_result"
    }
   ],
   "source": [
    "spa = sprand(100, 100, 0.05)\n",
    "vet_spa = rand(100)"
   ]
  },
  {
   "cell_type": "code",
   "execution_count": 47,
   "metadata": {},
   "outputs": [
    {
     "data": {
      "text/plain": [
       "([1.0, 1.0, 1.0, 1.0, 1.0, 1.0, 1.0, 1.0, 1.0, 1.0  …  1.0, 1.0, 1.0, 1.0, 1.0, 1.0, 1.0, 1.0, 1.0, 1.0], NaN, 0)"
      ]
     },
     "execution_count": 47,
     "metadata": {},
     "output_type": "execute_result"
    }
   ],
   "source": [
    "CAV_sparse(spa, vet_spa, itmax=10_000)\n"
   ]
  },
  {
   "cell_type": "code",
   "execution_count": 48,
   "metadata": {},
   "outputs": [
    {
     "data": {
      "text/plain": [
       "([1.0, 1.0, 1.0, 1.0, 1.0, 1.0, 1.0, 1.0, 1.0, 1.0  …  1.0, 1.0, 1.0, 1.0, 1.0, 1.0, 1.0, 1.0, 1.0, 1.0], NaN, 0)"
      ]
     },
     "execution_count": 48,
     "metadata": {},
     "output_type": "execute_result"
    }
   ],
   "source": [
    "Cimmino(spa, vet_spa, itmax=10_000)"
   ]
  },
  {
   "cell_type": "code",
   "execution_count": 49,
   "metadata": {},
   "outputs": [
    {
     "data": {
      "text/plain": [
       "CAV (generic function with 1 method)"
      ]
     },
     "execution_count": 49,
     "metadata": {},
     "output_type": "execute_result"
    }
   ],
   "source": [
    "function CAV(A::Matrix, b::Vector; itmax::Int=10000, ε::Float64= 1e-3)\n",
    "\tif issparse(A) == true \n",
    "\t\tCAV_sparse(A, b; itmax=10000, ε=1e-3)\n",
    "\telse \n",
    "\t\tCimmino(A, b; itmax=10000, ε=1e-3)\n",
    "\tend\n",
    "\treturn xₖ, tol, k\n",
    "end\n"
   ]
  },
  {
   "cell_type": "code",
   "execution_count": null,
   "metadata": {},
   "outputs": [],
   "source": []
  }
 ],
 "metadata": {
  "kernelspec": {
   "display_name": "Julia 1.6.1",
   "language": "julia",
   "name": "julia-1.6"
  },
  "language_info": {
   "file_extension": ".jl",
   "mimetype": "application/julia",
   "name": "julia",
   "version": "1.6.1"
  }
 },
 "nbformat": 4,
 "nbformat_minor": 4
}
