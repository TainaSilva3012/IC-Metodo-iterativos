{
 "cells": [
  {
   "cell_type": "code",
   "execution_count": 3,
   "metadata": {},
   "outputs": [],
   "source": [
    "using CUDA, LinearAlgebra"
   ]
  },
  {
   "cell_type": "code",
   "execution_count": 4,
   "metadata": {},
   "outputs": [
    {
     "data": {
      "text/plain": [
       "proj (generic function with 1 method)"
      ]
     },
     "execution_count": 4,
     "metadata": {},
     "output_type": "execute_result"
    }
   ],
   "source": [
    "function proj(p₀, u, β)\n",
    "    return  p₀ - ((dot(u, p₀)- β)/dot(u, u))*u\n",
    "end"
   ]
  },
  {
   "cell_type": "code",
   "execution_count": null,
   "metadata": {},
   "outputs": [],
   "source": [
    "function proj_GPU(p₀, u, β)\n",
    "    CUBLAS.dot(u, p₀)\n",
    "    CUBLAS.dot(u, u)\n",
    "end"
   ]
  },
  {
   "cell_type": "code",
   "execution_count": 5,
   "metadata": {},
   "outputs": [
    {
     "data": {
      "text/plain": [
       "reflexao (generic function with 1 method)"
      ]
     },
     "execution_count": 5,
     "metadata": {},
     "output_type": "execute_result"
    }
   ],
   "source": [
    "function reflexao(p₀, u, β)\n",
    "    return  2*proj(p₀, u, β) - p₀\n",
    "end"
   ]
  },
  {
   "cell_type": "code",
   "execution_count": 6,
   "metadata": {},
   "outputs": [
    {
     "data": {
      "text/plain": [
       "reflexao_simultanea (generic function with 1 method)"
      ]
     },
     "execution_count": 6,
     "metadata": {},
     "output_type": "execute_result"
    }
   ],
   "source": [
    "function reflexao_simultanea(xₖ, A, b, n, r)\n",
    "    rₖ = CUDA.zeros(r)\n",
    "      for i=1:n\n",
    "         rₖ += reflexao(xₖ, A[i,:], b[i])\n",
    "    end\n",
    "    return rₖ/n\n",
    "end"
   ]
  },
  {
   "cell_type": "code",
   "execution_count": 14,
   "metadata": {},
   "outputs": [],
   "source": [
    "#rₖ = Vector{Float32}(undef, 1_000) #Aloca uma memória para um vetor de tamanho 1_000 na GPU"
   ]
  },
  {
   "cell_type": "code",
   "execution_count": 15,
   "metadata": {},
   "outputs": [],
   "source": [
    "#CuArray{Int}(undef, 2) - cria um array em pé de 2 entradas"
   ]
  },
  {
   "cell_type": "code",
   "execution_count": 16,
   "metadata": {},
   "outputs": [],
   "source": [
    "#CuArray{Int}(undef, (1,2))- cria um array deitado de 2 entradas"
   ]
  },
  {
   "cell_type": "code",
   "execution_count": 12,
   "metadata": {},
   "outputs": [],
   "source": [
    "#fill!(rₖ, 0.) #Atribui a memória alocada um vetor cujas etradas são todas nulas"
   ]
  },
  {
   "cell_type": "code",
   "execution_count": 2,
   "metadata": {},
   "outputs": [],
   "source": [
    "#@sync - pausa as tarefas da CPU até as tarefas da GPU dentro do Bloco serem concluídas"
   ]
  },
  {
   "cell_type": "code",
   "execution_count": 3,
   "metadata": {},
   "outputs": [],
   "source": [
    "#@btime nome da função - mede o tempo como benchmarktools"
   ]
  },
  {
   "cell_type": "code",
   "execution_count": 4,
   "metadata": {},
   "outputs": [],
   "source": [
    "#@cuprintln(\"thread $index, block $stride\") - imprime"
   ]
  },
  {
   "cell_type": "code",
   "execution_count": 5,
   "metadata": {},
   "outputs": [],
   "source": [
    "#synchronize() - sincroniza a GPU, necessário usar com o @cuprint()"
   ]
  },
  {
   "cell_type": "code",
   "execution_count": 6,
   "metadata": {},
   "outputs": [],
   "source": [
    "#broadcast - Faz operções com elementos que não possuem a mesma dimensão como somar um vetor \n",
    "#nas colunas de uma matriz por exemplo, com strings faz concatenação"
   ]
  },
  {
   "cell_type": "code",
   "execution_count": 7,
   "metadata": {},
   "outputs": [],
   "source": [
    "#map(f, c) -> coleção -Transformar a colecção c através da aplicação de f a cada elemento. Para múltiplos\n",
    "#argumentos de recolha, aplicar f elemento a elemento. Ex: aplica uma função nas entradas de um vetor,\n",
    "#opera com vetores de mesmo tamanho."
   ]
  },
  {
   "cell_type": "code",
   "execution_count": 9,
   "metadata": {},
   "outputs": [],
   "source": [
    "#a = reshape(Vector(1:16), (4,4)) # cria o vetor de 1 até 16 depois transforma numa matriz 4x4 por colunas\n",
    "\n",
    "#reduce(max, a, dims=2) -verifica qual o vetor de maior valores na matriz e devolve somente este vetor \n",
    "#em forma de matriz em pé\n",
    "\n",
    "#reduce(max, a, dims=1)- verifica qual o vetor de maior valores na matriz e devolve somente este vetor \n",
    "#em forma de matriz deitada"
   ]
  },
  {
   "cell_type": "code",
   "execution_count": 10,
   "metadata": {},
   "outputs": [],
   "source": [
    "#reduce(*, [2; 3; 4]) devolve a multiplicação das entradas do vetor considerando o elemento neutro da \n",
    "#multiplicação como sendo 1\n",
    "\n",
    "#reduce(*, [2; 3; 4]; init=-1)devolve a multiplicação das entradas do vetor considerando o elemento neutro da \n",
    "#multiplicação como sendo -1"
   ]
  },
  {
   "cell_type": "code",
   "execution_count": 11,
   "metadata": {},
   "outputs": [],
   "source": [
    "#tamnho = length(a)/1024 - em que 1024 é o numero de threads\n",
    "#@cuda threads=length(a)/tamanho função(a)  - Faz a divisão para as threads"
   ]
  },
  {
   "cell_type": "code",
   "execution_count": 17,
   "metadata": {},
   "outputs": [],
   "source": [
    "#a = CuArray([1,2]) - array na GPU\n",
    "#b = Array(a) - array na CPU\n",
    "#copyto!(b, a) - aloca b na GPU no lugar de a"
   ]
  },
  {
   "cell_type": "code",
   "execution_count": null,
   "metadata": {},
   "outputs": [],
   "source": []
  }
 ],
 "metadata": {
  "kernelspec": {
   "display_name": "Julia 1.6.1",
   "language": "julia",
   "name": "julia-1.6"
  },
  "language_info": {
   "file_extension": ".jl",
   "mimetype": "application/julia",
   "name": "julia",
   "version": "1.6.1"
  }
 },
 "nbformat": 4,
 "nbformat_minor": 4
}